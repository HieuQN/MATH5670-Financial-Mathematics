{
  "nbformat": 4,
  "nbformat_minor": 0,
  "metadata": {
    "colab": {
      "name": "MATH5670_group_005_assignment_005.ipynb",
      "provenance": [],
      "include_colab_link": true
    },
    "kernelspec": {
      "name": "python3",
      "display_name": "Python 3"
    }
  },
  "cells": [
    {
      "cell_type": "markdown",
      "metadata": {
        "id": "view-in-github",
        "colab_type": "text"
      },
      "source": [
        "<a href=\"https://colab.research.google.com/github/nguyen084/MATH5670/blob/master/MATH5670_group_005_assignment_005.ipynb\" target=\"_parent\"><img src=\"https://colab.research.google.com/assets/colab-badge.svg\" alt=\"Open In Colab\"/></a>"
      ]
    },
    {
      "cell_type": "code",
      "metadata": {
        "id": "e0Pi55jY4SO9",
        "colab_type": "code",
        "outputId": "86c00cb5-9509-4fe7-9887-747e1ab6e8ff",
        "colab": {
          "base_uri": "https://localhost:8080/",
          "height": 83
        }
      },
      "source": [
        "#Q1: MovingAverage\n",
        "'''\n",
        "Description: First we will be initialize the array that will be using to append\n",
        "the integer into. The array should only holding up two the size that the \n",
        "function declares, we will will pop the first index if it exceeds the size. \n",
        "We also deduct the total sum value of the array when popping the index.\n",
        "Then, recalculate the sum with the new integer and recalculate the average.\n",
        "'''\n",
        "class MovingAverage:\n",
        "    def __init__(self, size):\n",
        "        # do intialization if necessary\n",
        "        self.size = size\n",
        "        self.array = []\n",
        "        self.total = 0\n",
        "    def next(self, val):\n",
        "        # write your code here\n",
        "        if len(self.array) == self.size:\n",
        "            self.total -= self.array.pop(0)\n",
        "        self.array.append(val)\n",
        "        self.total += self.array[-1]\n",
        "        return self.total/len(self.array)\n",
        "m = MovingAverage(3);\n",
        "print(m.next(1))\n",
        "print(m.next(10))\n",
        "print(m.next(3))\n",
        "print(m.next(5))"
      ],
      "execution_count": 0,
      "outputs": [
        {
          "output_type": "stream",
          "text": [
            "1.0\n",
            "5.5\n",
            "4.666666666666667\n",
            "6.0\n"
          ],
          "name": "stdout"
        }
      ]
    },
    {
      "cell_type": "code",
      "metadata": {
        "id": "HhpFGEOT4wvj",
        "colab_type": "code",
        "outputId": "ae96961b-d95d-4c5f-d489-2376d421aad6",
        "colab": {
          "base_uri": "https://localhost:8080/",
          "height": 83
        }
      },
      "source": [
        "#Q2: Reversing Queue\n",
        "'''\n",
        "Description: We create a temporary array, then iterate through the queue \n",
        "and append the value into the array, also remove each index in the queue.\n",
        "Then, we iterate through the array and append each integer into the queue\n",
        "backward.\n",
        "'''\n",
        "from queue import Queue\n",
        "class Solution:\n",
        "    def reversequeue(queue):\n",
        "      tmplist = []\n",
        "      while queue.empty() is False:\n",
        "        tmplist.append(queue.get())\n",
        "      while len(tmplist) != 0:\n",
        "        queue.put(tmplist[-1])\n",
        "        tmplist.pop()\n",
        "test = [10, 20, 30, 40, 50, 60, 70, 80, 90, 100]\n",
        "Q = Queue()\n",
        "for i in test:\n",
        "  Q.put(i)\n",
        "Solution.reversequeue(Q)\n",
        "print(test)\n",
        "print(list(Q.queue))\n",
        "test1 = [1, 2, 3, 4, 5]\n",
        "Q2 = Queue()\n",
        "for i in test1:\n",
        "  Q2.put(i)\n",
        "Solution.reversequeue(Q2)\n",
        "print(test1)\n",
        "print(list(Q2.queue))\n"
      ],
      "execution_count": 0,
      "outputs": [
        {
          "output_type": "stream",
          "text": [
            "[10, 20, 30, 40, 50, 60, 70, 80, 90, 100]\n",
            "[100, 90, 80, 70, 60, 50, 40, 30, 20, 10]\n",
            "[1, 2, 3, 4, 5]\n",
            "[5, 4, 3, 2, 1]\n"
          ],
          "name": "stdout"
        }
      ]
    },
    {
      "cell_type": "code",
      "metadata": {
        "id": "1VzOQejg8uCp",
        "colab_type": "code",
        "outputId": "2c4db612-0987-4a99-e480-5cfd9a655462",
        "colab": {
          "base_uri": "https://localhost:8080/",
          "height": 88
        }
      },
      "source": [
        "#3: Reversing the first K elements of a Queue\n",
        "'''\n",
        "Description: We create a temporary array, and iterate through the queue to\n",
        "add each integer into the array. We then put the kth value of the array into\n",
        "the queue backward until it reaches the first index. Then, we put the remain\n",
        "integers of the array into the queue in order.\n",
        "'''\n",
        "class Solution:\n",
        "    def reversequeuek(queue, k):\n",
        "      tmplist = []\n",
        "      k = k-1\n",
        "      while queue.empty() is False:\n",
        "        tmplist.append(queue.get())\n",
        "      while k != 0:\n",
        "        queue.put(tmplist[k])\n",
        "        tmplist.pop(k)\n",
        "        k -= 1\n",
        "      while len(tmplist) != 0:\n",
        "        queue.put(tmplist[0])\n",
        "        tmplist.pop(0)\n",
        "test = [10, 20, 30, 40, 50, 60, 70, 80, 90, 100]\n",
        "Q = Queue()\n",
        "for i in test:\n",
        "  Q.put(i)\n",
        "Solution.reversequeuek(Q,5)\n",
        "print(test)\n",
        "print(list(Q.queue))\n",
        "\n",
        "test = [10, 20, 30, 40, 50, 60, 70, 80, 90, 100]\n",
        "Q = Queue()\n",
        "for i in test:\n",
        "  Q.put(i)\n",
        "Solution.reversequeuek(Q,4)\n",
        "print(test)\n",
        "print(list(Q.queue))"
      ],
      "execution_count": 0,
      "outputs": [
        {
          "output_type": "stream",
          "text": [
            "[10, 20, 30, 40, 50, 60, 70, 80, 90, 100]\n",
            "[50, 40, 30, 20, 10, 60, 70, 80, 90, 100]\n",
            "[10, 20, 30, 40, 50, 60, 70, 80, 90, 100]\n",
            "[40, 30, 20, 10, 50, 60, 70, 80, 90, 100]\n"
          ],
          "name": "stdout"
        }
      ]
    },
    {
      "cell_type": "code",
      "metadata": {
        "id": "_QGYen1g_Bsr",
        "colab_type": "code",
        "outputId": "ab538a10-8fef-44a1-8358-1aeaeac11022",
        "colab": {
          "base_uri": "https://localhost:8080/",
          "height": 70
        }
      },
      "source": [
        "#Q1: Implemennt Stack\n",
        "'''\n",
        "Instructor already provide the solution\n",
        "'''\n",
        "class Stack:\n",
        "  def __init__(self):\n",
        "    self.s = []\n",
        "  def push(self, x):\n",
        "  # write your code here\n",
        "    self.s.append(x)\n",
        "  def pop(self):\n",
        "  # write your code here\n",
        "    self.s.pop()\n",
        "  def top(self):\n",
        "  # write your code here\n",
        "    return self.s[-1]\n",
        "  def isEmpty(self):\n",
        "  # write your code here\n",
        "    return len(self.s) == 0\n",
        "stackk = Stack()\n",
        "stackk.push(1)\n",
        "stackk.pop()\n",
        "stackk.push(2)\n",
        "print(stackk.top())\n",
        "stackk.pop()\n",
        "print(stackk.isEmpty())\n",
        "stackk.push(3)\n",
        "print(stackk.isEmpty())"
      ],
      "execution_count": 0,
      "outputs": [
        {
          "output_type": "stream",
          "text": [
            "2\n",
            "True\n",
            "False\n"
          ],
          "name": "stdout"
        }
      ]
    },
    {
      "cell_type": "code",
      "metadata": {
        "id": "zg2UPmz6VPYf",
        "colab_type": "code",
        "outputId": "f8f77389-2fda-4ac3-86c1-4ced87e84c8a",
        "colab": {
          "base_uri": "https://localhost:8080/",
          "height": 35
        }
      },
      "source": [
        "#Q2: remove Duplicate Letters\n",
        "'''\n",
        "Instructor already provided the solution\n",
        "'''\n",
        "class Solution:\n",
        "  def removeDuplicateLetters(s):\n",
        "  # write your code here\n",
        "    return ''.join(sorted(set(s)))\n",
        "print(Solution.removeDuplicateLetters('bcabc'))"
      ],
      "execution_count": 0,
      "outputs": [
        {
          "output_type": "stream",
          "text": [
            "abc\n"
          ],
          "name": "stdout"
        }
      ]
    }
  ]
}
