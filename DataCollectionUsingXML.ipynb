{
  "nbformat": 4,
  "nbformat_minor": 0,
  "metadata": {
    "colab": {
      "name": "Group_005_assignment_003.ipynb",
      "provenance": [],
      "include_colab_link": true
    },
    "kernelspec": {
      "name": "python3",
      "display_name": "Python 3"
    }
  },
  "cells": [
    {
      "cell_type": "markdown",
      "metadata": {
        "id": "view-in-github",
        "colab_type": "text"
      },
      "source": [
        "<a href=\"https://colab.research.google.com/github/nguyen084/MATH5670/blob/master/Group_005_assignment_003.ipynb\" target=\"_parent\"><img src=\"https://colab.research.google.com/assets/colab-badge.svg\" alt=\"Open In Colab\"/></a>"
      ]
    },
    {
      "cell_type": "markdown",
      "metadata": {
        "id": "I_y2koPBAmFQ",
        "colab_type": "text"
      },
      "source": [
        "Author: Hieu Nguyen\n",
        "Date: 09/10/2019\n",
        "Assignment 3: Gathering data using XML in Python"
      ]
    },
    {
      "cell_type": "code",
      "metadata": {
        "id": "4eRnCFARAB_G",
        "colab_type": "code",
        "colab": {}
      },
      "source": [
        "import urllib.request\n",
        "import requests\n",
        "from lxml import objectify,etree\n",
        "import pandas as pd\n"
      ],
      "execution_count": 0,
      "outputs": []
    },
    {
      "cell_type": "markdown",
      "metadata": {
        "id": "4oBQCH84QXg6",
        "colab_type": "text"
      },
      "source": [
        "Find all yield rate type"
      ]
    },
    {
      "cell_type": "code",
      "metadata": {
        "id": "hIh3znqYh9Sx",
        "colab_type": "code",
        "colab": {}
      },
      "source": [
        "def GetTBill(df,yearlist,yieldtype):\n",
        "  for year in yearlist: #Loop throught the list of year\n",
        "    xml = urllib.request.urlopen('http://data.treasury.gov/feed.svc/DailyTreasuryYieldCurveRateData?$filter=year(NEW_DATE)%20eq%20{}'.format(year)).read()\n",
        "    tree = etree.fromstring(xml)\n",
        "    tree.xpath(\"//*\")\n",
        "    lists = list()\n",
        "    for yp in yieldtype: #Loop through yield type\n",
        "      tbill =tree.findall(\".//{http://schemas.microsoft.com/ado/2007/08/dataservices}\"+yp)\n",
        "      lists.append(tbill)\n",
        "    for i in range(len(lists[0])): #Loop though each index of list to get the value\n",
        "      tmp = pd.DataFrame([[lists[0][i].text[:-9],lists[1][i].text,\n",
        "                      lists[2][i].text,lists[3][i].text,lists[4][i].text,\n",
        "                      lists[5][i].text,lists[6][i].text,lists[7][i].text,\n",
        "                      lists[8][i].text,lists[9][i].text,lists[10][i].text,\n",
        "                      lists[11][i].text]],columns=yieldtype)\n",
        "      df = df.append(tmp,ignore_index=True)   \n",
        "  return df\n",
        "yieldtype = ['NEW_DATE','BC_1MONTH','BC_3MONTH','BC_6MONTH','BC_1YEAR','BC_2YEAR','BC_3YEAR','BC_5YEAR','BC_7YEAR','BC_10YEAR','BC_20YEAR','BC_30YEAR']\n",
        "df = pd.DataFrame(columns=yieldtype)\n",
        "yearlist = ['2010','2011','2012','2013','2014','2015','2016','2017','2018']\n",
        "yieldvalue = GetTBill(df,yearlist,yieldtype)"
      ],
      "execution_count": 0,
      "outputs": []
    },
    {
      "cell_type": "code",
      "metadata": {
        "id": "vvp2-Ev9piv1",
        "colab_type": "code",
        "outputId": "90ff5d09-995b-475d-985a-d38a2e3d4012",
        "colab": {
          "base_uri": "https://localhost:8080/",
          "height": 307
        }
      },
      "source": [
        "yieldvalue.head()"
      ],
      "execution_count": 0,
      "outputs": [
        {
          "output_type": "execute_result",
          "data": {
            "text/html": [
              "<div>\n",
              "<style scoped>\n",
              "    .dataframe tbody tr th:only-of-type {\n",
              "        vertical-align: middle;\n",
              "    }\n",
              "\n",
              "    .dataframe tbody tr th {\n",
              "        vertical-align: top;\n",
              "    }\n",
              "\n",
              "    .dataframe thead th {\n",
              "        text-align: right;\n",
              "    }\n",
              "</style>\n",
              "<table border=\"1\" class=\"dataframe\">\n",
              "  <thead>\n",
              "    <tr style=\"text-align: right;\">\n",
              "      <th></th>\n",
              "      <th>NEW_DATE</th>\n",
              "      <th>BC_1MONTH</th>\n",
              "      <th>BC_3MONTH</th>\n",
              "      <th>BC_6MONTH</th>\n",
              "      <th>BC_1YEAR</th>\n",
              "      <th>BC_2YEAR</th>\n",
              "      <th>BC_3YEAR</th>\n",
              "      <th>BC_5YEAR</th>\n",
              "      <th>BC_7YEAR</th>\n",
              "      <th>BC_10YEAR</th>\n",
              "      <th>BC_20YEAR</th>\n",
              "      <th>BC_30YEAR</th>\n",
              "    </tr>\n",
              "  </thead>\n",
              "  <tbody>\n",
              "    <tr>\n",
              "      <th>0</th>\n",
              "      <td>2010-02-22</td>\n",
              "      <td>0.059999998658895493</td>\n",
              "      <td>0.10999999940395355</td>\n",
              "      <td>0.18999999761581421</td>\n",
              "      <td>0.37000000476837158</td>\n",
              "      <td>0.9100000262260437</td>\n",
              "      <td>1.4800000190734863</td>\n",
              "      <td>2.4700000286102295</td>\n",
              "      <td>3.25</td>\n",
              "      <td>3.7999999523162842</td>\n",
              "      <td>4.5999999046325684</td>\n",
              "      <td>4.7300000190734863</td>\n",
              "    </tr>\n",
              "    <tr>\n",
              "      <th>1</th>\n",
              "      <td>2010-02-19</td>\n",
              "      <td>0.059999998658895493</td>\n",
              "      <td>0.10999999940395355</td>\n",
              "      <td>0.20000000298023224</td>\n",
              "      <td>0.38999998569488525</td>\n",
              "      <td>0.949999988079071</td>\n",
              "      <td>1.5099999904632568</td>\n",
              "      <td>2.4800000190734863</td>\n",
              "      <td>3.2400000095367432</td>\n",
              "      <td>3.7799999713897705</td>\n",
              "      <td>4.5799999237060547</td>\n",
              "      <td>4.7100000381469727</td>\n",
              "    </tr>\n",
              "    <tr>\n",
              "      <th>2</th>\n",
              "      <td>2010-02-23</td>\n",
              "      <td>0.079999998211860657</td>\n",
              "      <td>0.11999999731779099</td>\n",
              "      <td>0.20000000298023224</td>\n",
              "      <td>0.36000001430511475</td>\n",
              "      <td>0.87000000476837158</td>\n",
              "      <td>1.4199999570846558</td>\n",
              "      <td>2.369999885559082</td>\n",
              "      <td>3.130000114440918</td>\n",
              "      <td>3.690000057220459</td>\n",
              "      <td>4.4899997711181641</td>\n",
              "      <td>4.630000114440918</td>\n",
              "    </tr>\n",
              "    <tr>\n",
              "      <th>3</th>\n",
              "      <td>2010-02-25</td>\n",
              "      <td>0.090000003576278687</td>\n",
              "      <td>0.12999999523162842</td>\n",
              "      <td>0.18999999761581421</td>\n",
              "      <td>0.31999999284744263</td>\n",
              "      <td>0.81999999284744263</td>\n",
              "      <td>1.3799999952316284</td>\n",
              "      <td>2.3299999237060547</td>\n",
              "      <td>3.0899999141693115</td>\n",
              "      <td>3.6400001049041748</td>\n",
              "      <td>4.440000057220459</td>\n",
              "      <td>4.5799999237060547</td>\n",
              "    </tr>\n",
              "    <tr>\n",
              "      <th>4</th>\n",
              "      <td>2010-02-24</td>\n",
              "      <td>0.079999998211860657</td>\n",
              "      <td>0.11999999731779099</td>\n",
              "      <td>0.18999999761581421</td>\n",
              "      <td>0.34000000357627869</td>\n",
              "      <td>0.87000000476837158</td>\n",
              "      <td>1.4199999570846558</td>\n",
              "      <td>2.4000000953674316</td>\n",
              "      <td>3.1400001049041748</td>\n",
              "      <td>3.7000000476837158</td>\n",
              "      <td>4.4899997711181641</td>\n",
              "      <td>4.630000114440918</td>\n",
              "    </tr>\n",
              "  </tbody>\n",
              "</table>\n",
              "</div>"
            ],
            "text/plain": [
              "     NEW_DATE             BC_1MONTH  ...           BC_20YEAR           BC_30YEAR\n",
              "0  2010-02-22  0.059999998658895493  ...  4.5999999046325684  4.7300000190734863\n",
              "1  2010-02-19  0.059999998658895493  ...  4.5799999237060547  4.7100000381469727\n",
              "2  2010-02-23  0.079999998211860657  ...  4.4899997711181641   4.630000114440918\n",
              "3  2010-02-25  0.090000003576278687  ...   4.440000057220459  4.5799999237060547\n",
              "4  2010-02-24  0.079999998211860657  ...  4.4899997711181641   4.630000114440918\n",
              "\n",
              "[5 rows x 12 columns]"
            ]
          },
          "metadata": {
            "tags": []
          },
          "execution_count": 23
        }
      ]
    },
    {
      "cell_type": "code",
      "metadata": {
        "id": "Z9WrJh2EqZw1",
        "colab_type": "code",
        "outputId": "2bdffadf-f4e1-431a-f844-e5b024fe9e9b",
        "colab": {
          "base_uri": "https://localhost:8080/",
          "height": 201
        }
      },
      "source": [
        "yieldvalue.tail()"
      ],
      "execution_count": 0,
      "outputs": [
        {
          "output_type": "execute_result",
          "data": {
            "text/html": [
              "<div>\n",
              "<style scoped>\n",
              "    .dataframe tbody tr th:only-of-type {\n",
              "        vertical-align: middle;\n",
              "    }\n",
              "\n",
              "    .dataframe tbody tr th {\n",
              "        vertical-align: top;\n",
              "    }\n",
              "\n",
              "    .dataframe thead th {\n",
              "        text-align: right;\n",
              "    }\n",
              "</style>\n",
              "<table border=\"1\" class=\"dataframe\">\n",
              "  <thead>\n",
              "    <tr style=\"text-align: right;\">\n",
              "      <th></th>\n",
              "      <th>NEW_DATE</th>\n",
              "      <th>BC_1MONTH</th>\n",
              "      <th>BC_3MONTH</th>\n",
              "      <th>BC_6MONTH</th>\n",
              "      <th>BC_1YEAR</th>\n",
              "      <th>BC_2YEAR</th>\n",
              "      <th>BC_3YEAR</th>\n",
              "      <th>BC_5YEAR</th>\n",
              "      <th>BC_7YEAR</th>\n",
              "      <th>BC_10YEAR</th>\n",
              "      <th>BC_20YEAR</th>\n",
              "      <th>BC_30YEAR</th>\n",
              "    </tr>\n",
              "  </thead>\n",
              "  <tbody>\n",
              "    <tr>\n",
              "      <th>2248</th>\n",
              "      <td>2018-12-24</td>\n",
              "      <td>2.42</td>\n",
              "      <td>2.45</td>\n",
              "      <td>2.52</td>\n",
              "      <td>2.61</td>\n",
              "      <td>2.55</td>\n",
              "      <td>2.56</td>\n",
              "      <td>2.58</td>\n",
              "      <td>2.66</td>\n",
              "      <td>2.74</td>\n",
              "      <td>2.88</td>\n",
              "      <td>3</td>\n",
              "    </tr>\n",
              "    <tr>\n",
              "      <th>2249</th>\n",
              "      <td>2018-12-26</td>\n",
              "      <td>2.41</td>\n",
              "      <td>2.44</td>\n",
              "      <td>2.54</td>\n",
              "      <td>2.61</td>\n",
              "      <td>2.61</td>\n",
              "      <td>2.6</td>\n",
              "      <td>2.67</td>\n",
              "      <td>2.74</td>\n",
              "      <td>2.81</td>\n",
              "      <td>2.94</td>\n",
              "      <td>3.06</td>\n",
              "    </tr>\n",
              "    <tr>\n",
              "      <th>2250</th>\n",
              "      <td>2018-12-27</td>\n",
              "      <td>2.43</td>\n",
              "      <td>2.41</td>\n",
              "      <td>2.49</td>\n",
              "      <td>2.58</td>\n",
              "      <td>2.56</td>\n",
              "      <td>2.55</td>\n",
              "      <td>2.6</td>\n",
              "      <td>2.68</td>\n",
              "      <td>2.77</td>\n",
              "      <td>2.92</td>\n",
              "      <td>3.05</td>\n",
              "    </tr>\n",
              "    <tr>\n",
              "      <th>2251</th>\n",
              "      <td>2018-12-28</td>\n",
              "      <td>2.39</td>\n",
              "      <td>2.4</td>\n",
              "      <td>2.48</td>\n",
              "      <td>2.57</td>\n",
              "      <td>2.52</td>\n",
              "      <td>2.5</td>\n",
              "      <td>2.56</td>\n",
              "      <td>2.63</td>\n",
              "      <td>2.72</td>\n",
              "      <td>2.89</td>\n",
              "      <td>3.04</td>\n",
              "    </tr>\n",
              "    <tr>\n",
              "      <th>2252</th>\n",
              "      <td>2018-12-31</td>\n",
              "      <td>2.44</td>\n",
              "      <td>2.45</td>\n",
              "      <td>2.56</td>\n",
              "      <td>2.63</td>\n",
              "      <td>2.48</td>\n",
              "      <td>2.46</td>\n",
              "      <td>2.51</td>\n",
              "      <td>2.59</td>\n",
              "      <td>2.69</td>\n",
              "      <td>2.87</td>\n",
              "      <td>3.02</td>\n",
              "    </tr>\n",
              "  </tbody>\n",
              "</table>\n",
              "</div>"
            ],
            "text/plain": [
              "        NEW_DATE BC_1MONTH BC_3MONTH  ... BC_10YEAR BC_20YEAR BC_30YEAR\n",
              "2248  2018-12-24      2.42      2.45  ...      2.74      2.88         3\n",
              "2249  2018-12-26      2.41      2.44  ...      2.81      2.94      3.06\n",
              "2250  2018-12-27      2.43      2.41  ...      2.77      2.92      3.05\n",
              "2251  2018-12-28      2.39       2.4  ...      2.72      2.89      3.04\n",
              "2252  2018-12-31      2.44      2.45  ...      2.69      2.87      3.02\n",
              "\n",
              "[5 rows x 12 columns]"
            ]
          },
          "metadata": {
            "tags": []
          },
          "execution_count": 24
        }
      ]
    },
    {
      "cell_type": "markdown",
      "metadata": {
        "id": "gWxElphIQllv",
        "colab_type": "text"
      },
      "source": [
        "Save to excel file"
      ]
    },
    {
      "cell_type": "code",
      "metadata": {
        "id": "3mzZ34HfOMJU",
        "colab_type": "code",
        "colab": {}
      },
      "source": [
        "yieldvalue.to_excel('Group_005_assignment_003.xlsx')"
      ],
      "execution_count": 0,
      "outputs": []
    },
    {
      "cell_type": "code",
      "metadata": {
        "id": "j80MEbFgRXT-",
        "colab_type": "code",
        "colab": {}
      },
      "source": [
        "from google.colab import files\n",
        "files.download('Group_005_assignment_003.xlsx') "
      ],
      "execution_count": 0,
      "outputs": []
    }
  ]
}
