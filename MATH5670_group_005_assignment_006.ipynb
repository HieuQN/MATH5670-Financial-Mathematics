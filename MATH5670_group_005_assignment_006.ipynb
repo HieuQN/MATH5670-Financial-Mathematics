{
  "nbformat": 4,
  "nbformat_minor": 0,
  "metadata": {
    "colab": {
      "name": "MATH5670_group_005_assignment_006.ipynb",
      "provenance": [],
      "include_colab_link": true
    },
    "kernelspec": {
      "name": "python3",
      "display_name": "Python 3"
    }
  },
  "cells": [
    {
      "cell_type": "markdown",
      "metadata": {
        "id": "view-in-github",
        "colab_type": "text"
      },
      "source": [
        "<a href=\"https://colab.research.google.com/github/nguyen084/MATH5670/blob/master/MATH5670_group_005_assignment_006.ipynb\" target=\"_parent\"><img src=\"https://colab.research.google.com/assets/colab-badge.svg\" alt=\"Open In Colab\"/></a>"
      ]
    },
    {
      "cell_type": "code",
      "metadata": {
        "id": "9y00gGkpXsYl",
        "colab_type": "code",
        "colab": {}
      },
      "source": [
        "#1. Clone Binary Tree\n",
        "\"\"\"\n",
        "Definition of TreeNode:\n",
        "class TreeNode:\n",
        "    def __init__(self, val):\n",
        "        self.val = val\n",
        "        self.left, self.right = None, None\n",
        "\"\"\"\n",
        "#Use recursive method to iterate through the tree and copy it.\n",
        "#Time complexity: O(n)\n",
        "#Space complexity: O(1)\n",
        "class Solution:\n",
        "    \"\"\"\n",
        "    @param root: The root of binary tree\n",
        "    @return: root of new tree\n",
        "    \"\"\"\n",
        "    #Recursively copy the tree\n",
        "    def cloneTree(self, root):\n",
        "        # write your code here\n",
        "        if root is None:\n",
        "            return None\n",
        "        newroot = TreeNode(root.val)\n",
        "        newroot.left = self.cloneTree(root.left)\n",
        "        newroot.right = self.cloneTree(root.right)\n",
        "        return newroot"
      ],
      "execution_count": 0,
      "outputs": []
    },
    {
      "cell_type": "code",
      "metadata": {
        "id": "E7Xwi_01YPHT",
        "colab_type": "code",
        "colab": {}
      },
      "source": [
        "#Souces: https://www.geeksforgeeks.org/tree-traversals-inorder-preorder-and-postorder/\n",
        "#2. Binary Tree Preorder Traversal\n",
        "\"\"\"\n",
        "Definition of TreeNode:\n",
        "class TreeNode:\n",
        "    def __init__(self, val):\n",
        "        self.val = val\n",
        "        self.left, self.right = None, None\n",
        "\"\"\"\n",
        "'''\n",
        "Algorithm Preorder(tree)\n",
        "   1. Visit the root.\n",
        "   2. Traverse the left subtree, i.e., call Preorder(left-subtree)\n",
        "   3. Traverse the right subtree, i.e., call Preorder(right-subtree)\n",
        "'''\n",
        "#Time complexity: O(n)\n",
        "#Space complexity: O(1)\n",
        "class Solution:\n",
        "    \"\"\"\n",
        "    @param root: A Tree\n",
        "    @return: Preorder in ArrayList which contains node values.\n",
        "    \"\"\"\n",
        "    def preorderTraversal(self, root):\n",
        "        if root is None:\n",
        "            return []\n",
        "        thistree = [root] #Convert the tree into the array starting from root\n",
        "        preorder = []\n",
        "        while thistree:\n",
        "            node = thistree.pop()\n",
        "            preorder.append(node.val)\n",
        "            if node.right:\n",
        "                thistree.append(node.right)\n",
        "            if node.left:\n",
        "                thistree.append(node.left)\n",
        "        return preorder"
      ],
      "execution_count": 0,
      "outputs": []
    },
    {
      "cell_type": "code",
      "metadata": {
        "id": "ldIBtxnTZo4G",
        "colab_type": "code",
        "colab": {}
      },
      "source": [
        "#3 Binary Tree Inorder Traversal\n",
        "\"\"\"\n",
        "Definition of TreeNode:\n",
        "class TreeNode:\n",
        "    def __init__(self, val):\n",
        "        self.val = val\n",
        "        self.left, self.right = None, None\n",
        "\"\"\"\n",
        "#Time complexity: O(nlogn) since this algorithm is not that good. \n",
        "#Space complexity: O(1)\n",
        "class Solution:\n",
        "    \"\"\"\n",
        "    @param root: A Tree\n",
        "    @return: Inorder in ArrayList which contains node values.\n",
        "    \"\"\"\n",
        "    def inorderTraversal(self, root):\n",
        "        if root is None:\n",
        "            return []\n",
        "        thistree = [root] \n",
        "        inorder = []\n",
        "        while thistree:\n",
        "            node = thistree.pop()\n",
        "            if node.right:\n",
        "                node = node.right\n",
        "                while node:\n",
        "                    thistree.append(node)\n",
        "                    node = node.left\n",
        "            if thistree:\n",
        "                inorder.append(thistree[-1].val)    \n",
        "        return inorder"
      ],
      "execution_count": 0,
      "outputs": []
    },
    {
      "cell_type": "code",
      "metadata": {
        "id": "6Tv7VyGsane-",
        "colab_type": "code",
        "colab": {}
      },
      "source": [
        "#4 Binary Tree Postorder Traversal\n",
        "\"\"\"\n",
        "Definition of TreeNode:\n",
        "class TreeNode:\n",
        "    def __init__(self, val):\n",
        "        this.val = val\n",
        "        this.left, this.right = None, None\n",
        "\"\"\"\n",
        "'''\n",
        "Use recurrsive to get into the most left node of the tree and the the right node\n",
        "from left to right, and append the node into the result array.\n",
        "'''\n",
        "#Time complexity: O(n)\n",
        "#Space complexity: O(1)\n",
        "class Solution:\n",
        "    \"\"\"\n",
        "    @param root: The root of binary tree.\n",
        "    @return: Postorder in ArrayList which contains node values.\n",
        "    \"\"\"\n",
        "    result = []\n",
        "    \n",
        "    def traverse(self, root):\n",
        "        if root is None:\n",
        "            return\n",
        "        self.traverse(root.left)\n",
        "        self.traverse(root.right)\n",
        "        self.results.append(root.val) \n",
        "        \n",
        "    def postorderTraversal(self, root):\n",
        "        self.results = []\n",
        "        self.traverse(root)\n",
        "        return self.results"
      ],
      "execution_count": 0,
      "outputs": []
    },
    {
      "cell_type": "code",
      "metadata": {
        "id": "3q4sS7VAcvwY",
        "colab_type": "code",
        "colab": {}
      },
      "source": [
        "#5 Binary Tree Level Order Traversal\n",
        "\"\"\"\n",
        "Definition of TreeNode:\n",
        "class TreeNode:\n",
        "    def __init__(self, val):\n",
        "        self.val = val\n",
        "        self.left, self.right = None, None\n",
        "\"\"\"\n",
        "\n",
        "class Solution:\n",
        "    \"\"\"\n",
        "    @param root: The root of binary tree.\n",
        "    @return: Level order in a list of lists of integers\n",
        "    \"\"\"\n",
        "    #Create a new stack to append the value for each level of the tree.\n",
        "    #Time complexity: O(n)\n",
        "    #Space complexity: O(1)\n",
        "    def levelOrder(self, root):\n",
        "        if not root:\n",
        "            return []\n",
        "        stack = [root]\n",
        "        levelorder = []\n",
        "        while queue:\n",
        "            next_stack = []\n",
        "            for node in stack:\n",
        "              levelorder.append(node.val)\n",
        "            for node in stack:\n",
        "                if node.left:\n",
        "                    next_stack.append(node.left)\n",
        "                if node.right:\n",
        "                    next_stack.append(node.right)\n",
        "            stack = next_stack\n",
        "        return levelorder"
      ],
      "execution_count": 0,
      "outputs": []
    },
    {
      "cell_type": "markdown",
      "metadata": {
        "id": "0yqFSlZ1c0Ro",
        "colab_type": "text"
      },
      "source": [
        ""
      ]
    }
  ]
}