{
  "nbformat": 4,
  "nbformat_minor": 0,
  "metadata": {
    "colab": {
      "name": "group_005_assignment_004.ipynb",
      "provenance": [],
      "include_colab_link": true
    },
    "kernelspec": {
      "name": "python3",
      "display_name": "Python 3"
    }
  },
  "cells": [
    {
      "cell_type": "markdown",
      "metadata": {
        "id": "view-in-github",
        "colab_type": "text"
      },
      "source": [
        "<a href=\"https://colab.research.google.com/github/nguyen084/MATH5670/blob/master/group_005_assignment_004.ipynb\" target=\"_parent\"><img src=\"https://colab.research.google.com/assets/colab-badge.svg\" alt=\"Open In Colab\"/></a>"
      ]
    },
    {
      "cell_type": "markdown",
      "metadata": {
        "id": "uy7BtxgmuQYu",
        "colab_type": "text"
      },
      "source": [
        "Array Section below:"
      ]
    },
    {
      "cell_type": "code",
      "metadata": {
        "id": "l742TQhm7vnX",
        "colab_type": "code",
        "colab": {}
      },
      "source": [
        "#First position of Target\n",
        "class Solution:\n",
        "    \"\"\"\n",
        "    @param nums: The integer array.\n",
        "    @param target: Target to find.\n",
        "    @return: The first position of target. Position starts from 0.\n",
        "    \"\"\"\n",
        "    def binarySearch(self, nums, target):\n",
        "        low = 0\n",
        "        high = len(nums)\n",
        "        \"\"\"\n",
        "        Break the nums array in half until find the target.\n",
        "        Use the variable mid to keep the index value and return once target is found\n",
        "        \"\"\"\n",
        "        while low<high:\n",
        "            mid = (low+high)//2\n",
        "            if nums[mid]<target:\n",
        "                low = mid + 1\n",
        "            elif nums[mid] > target:\n",
        "                high = mid\n",
        "            elif mid > 0 and nums[mid-1] == target: #Keep going down to find the first position of the target.\n",
        "                high = mid\n",
        "            else:\n",
        "                return mid\n",
        "        return None"
      ],
      "execution_count": 0,
      "outputs": []
    },
    {
      "cell_type": "code",
      "metadata": {
        "id": "sG_-kpON9EKj",
        "colab_type": "code",
        "colab": {}
      },
      "source": [
        "#Merged Sorted Array\n",
        "class Solution:\n",
        "    \"\"\"\n",
        "    @param: A: sorted integer array A which has m elements, but size of A is m+n\n",
        "    @param: m: An integer\n",
        "    @param: B: sorted integer array B which has n elements\n",
        "    @param: n: An integer\n",
        "    @return: nothing\n",
        "    \"\"\"\n",
        "    #This is very similar to the merge sort except, the two arrays is already sorted\n",
        "    #The final step is to combine by comparing the two array, and insert the \n",
        "    #elements from the B array into A\n",
        "    def mergeSortedArray(self, A, m, B, n):\n",
        "        p, q, k = m-1, n-1, m+n-1\n",
        "        while p >= 0 and q >= 0:\n",
        "            if A[p] > B[q]:\n",
        "                A[k] = A[p]\n",
        "                p, k = p-1, k-1\n",
        "            else:\n",
        "                A[k] = B[q]\n",
        "                q, k = q-1, k-1\n",
        "        A[:q+1] = B[:q+1]"
      ],
      "execution_count": 0,
      "outputs": []
    },
    {
      "cell_type": "code",
      "metadata": {
        "id": "qu91SZMWrzrY",
        "colab_type": "code",
        "colab": {}
      },
      "source": [
        "#Find Median\n",
        "class Solution:\n",
        "    \"\"\"\n",
        "    @param nums: A list of integers\n",
        "    @return: An integer denotes the middle number of the array\n",
        "    \"\"\"\n",
        "    #Using Timsort to sort the array and return the middle index\n",
        "    def median(self, nums):\n",
        "        nums = sorted(nums)\n",
        "        return nums[int((len(nums)-1)/2)]"
      ],
      "execution_count": 0,
      "outputs": []
    },
    {
      "cell_type": "markdown",
      "metadata": {
        "id": "algcAoGduKKh",
        "colab_type": "text"
      },
      "source": [
        "Linked List Section below:"
      ]
    },
    {
      "cell_type": "code",
      "metadata": {
        "id": "T81pTMMir8Wq",
        "colab_type": "code",
        "colab": {}
      },
      "source": [
        "#Count Linked List node\n",
        "class Solution:\n",
        "    \"\"\"\n",
        "    @param head: the first node of linked list.\n",
        "    @return: An integer\n",
        "    \"\"\"\n",
        "    #Iterate through the linked list and count the node\n",
        "    def countNodes(self, head):\n",
        "        if head == None:\n",
        "            return None\n",
        "        count = 1\n",
        "        while head.next != None:\n",
        "            count += 1\n",
        "            head = head.next\n",
        "        return count"
      ],
      "execution_count": 0,
      "outputs": []
    },
    {
      "cell_type": "code",
      "metadata": {
        "id": "qiMBRUTesEi4",
        "colab_type": "code",
        "colab": {}
      },
      "source": [
        "#Nth to the last node in List\n",
        "class Solution:\n",
        "    \"\"\"\n",
        "    @param: head: The first node of linked list.\n",
        "    @param: n: An integer\n",
        "    @return: Nth to last node of a singly linked list. \n",
        "    \n",
        "    \"\"\"\n",
        "    #Iterate through the linked list and go backward to find the n value.\n",
        "    def nthToLast(self, head, n):\n",
        "        if head is None or n < 1:\n",
        "            return None\n",
        "        while head.next is not None:\n",
        "            head = head.next\n",
        "        n -= 1\n",
        "        while n > 0:\n",
        "            head = head.pre\n",
        "            n -= 1\n",
        "        return head"
      ],
      "execution_count": 0,
      "outputs": []
    }
  ]
}
