{
  "nbformat": 4,
  "nbformat_minor": 0,
  "metadata": {
    "kernelspec": {
      "display_name": "Python 3",
      "language": "python",
      "name": "python3"
    },
    "language_info": {
      "codemirror_mode": {
        "name": "ipython",
        "version": 3
      },
      "file_extension": ".py",
      "mimetype": "text/x-python",
      "name": "python",
      "nbconvert_exporter": "python",
      "pygments_lexer": "ipython3",
      "version": "3.7.3"
    },
    "colab": {
      "name": "Assignment 7.ipynb",
      "provenance": [],
      "include_colab_link": true
    }
  },
  "cells": [
    {
      "cell_type": "markdown",
      "metadata": {
        "id": "view-in-github",
        "colab_type": "text"
      },
      "source": [
        "<a href=\"https://colab.research.google.com/github/nguyen084/MATH5670/blob/master/Group_005_Assignment_007.ipynb\" target=\"_parent\"><img src=\"https://colab.research.google.com/assets/colab-badge.svg\" alt=\"Open In Colab\"/></a>"
      ]
    },
    {
      "cell_type": "code",
      "metadata": {
        "id": "LIbjtG5nMCJa",
        "colab_type": "code",
        "colab": {}
      },
      "source": [
        "class Solution:\n",
        "    def searchInsert(self, nums: List[int], target: int) -> int:\n",
        "        for index, value in enumerate(nums):  \n",
        "                if value >= target:\n",
        "                    return index\n",
        "        return len(nums) #if target is greater than the entire list\n",
        "# Runtime: 60 ms, faster than 63.57% of Python3 online submissions for Search Insert Position.\n",
        "# Memory Usage: 14.3 MB, less than 5.97% of Python3 online submissions for Search Insert Position.\n",
        "# Time complexity: O(n)\n",
        "# Space complexity: O(1)"
      ],
      "execution_count": 0,
      "outputs": []
    },
    {
      "cell_type": "code",
      "metadata": {
        "id": "nubixvRhMCJh",
        "colab_type": "code",
        "colab": {}
      },
      "source": [
        "class Solution:\n",
        "    def search(self, nums: List[int], target: int) -> int:\n",
        "        start = 0\n",
        "        end = len(nums)-1\n",
        "        while start<=end:\n",
        "            mid = start + int((end-start)/2)\n",
        "            if nums[mid] == target:\n",
        "                return mid\n",
        "            elif nums[mid] < target:\n",
        "                start = mid + 1\n",
        "            else:\n",
        "                end = mid - 1\n",
        "        return -1\n",
        "# Runtime: 296 ms, faster than 24.76% of Python3 online submissions for Binary Search.\n",
        "# Memory Usage: 15.1 MB, less than 6.45% of Python3 online submissions for Binary Search.\n",
        "# Time complexity: O(logn)\n",
        "# Spac complexity: O(1)"
      ],
      "execution_count": 0,
      "outputs": []
    },
    {
      "cell_type": "code",
      "metadata": {
        "id": "W3VLZKTQMCJl",
        "colab_type": "code",
        "colab": {
          "base_uri": "https://localhost:8080/",
          "height": 50
        },
        "outputId": "85198a6d-d304-4ef0-bb5b-2ba888ffb662"
      },
      "source": [
        "# Median\n",
        "def mediann(array):\n",
        "  array = sorted(array)\n",
        "  return array[int((len(array)-1)/2)]\n",
        "print(mediann([4, 5, 1, 2, 3]))\n",
        "print(mediann([7, 9, 4, 5]))\n",
        "#Time complexity: O(nlogn)\n",
        "#Space complexity: O(1)"
      ],
      "execution_count": 2,
      "outputs": [
        {
          "output_type": "stream",
          "text": [
            "3\n",
            "5\n"
          ],
          "name": "stdout"
        }
      ]
    },
    {
      "cell_type": "code",
      "metadata": {
        "id": "KVZvAparMCJo",
        "colab_type": "code",
        "colab": {
          "base_uri": "https://localhost:8080/",
          "height": 116
        },
        "outputId": "58df35be-2aa9-4546-b085-1a504e896ca4"
      },
      "source": [
        "# https://www.geeksforgeeks.org/python-convert-a-nested-list-into-a-flat-list/\n",
        "def reemovNestings(l):\n",
        "    for i in l: \n",
        "        if type(i) == list: \n",
        "            reemovNestings(i) \n",
        "        else: \n",
        "            output.append(i)\n",
        "l = [1, 2, [3, 4, [5, 6]], 7, 8, [9, [10]]]\n",
        "print(l)\n",
        "output = []\n",
        "reemovNestings(l)\n",
        "print(output)\n",
        "\n",
        "l = [[1,1],2,[1,1]]\n",
        "print(l)\n",
        "output = []\n",
        "reemovNestings(l)\n",
        "print(output)\n",
        "\n",
        "l = [1,2,[1,2]]\n",
        "print(l)\n",
        "output = []\n",
        "reemovNestings(l)\n",
        "print(output)\n",
        "#Time complexity: O(n*) where n is the total #of elements\n",
        "#Space complexity: O(1)"
      ],
      "execution_count": 13,
      "outputs": [
        {
          "output_type": "stream",
          "text": [
            "[1, 2, [3, 4, [5, 6]], 7, 8, [9, [10]]]\n",
            "[1, 2, 3, 4, 5, 6, 7, 8, 9, 10]\n",
            "[[1, 1], 2, [1, 1]]\n",
            "[1, 1, 2, 1, 1]\n",
            "[1, 2, [1, 2]]\n",
            "[1, 2, 1, 2]\n"
          ],
          "name": "stdout"
        }
      ]
    },
    {
      "cell_type": "code",
      "metadata": {
        "id": "CdCo7IT0MCJs",
        "colab_type": "code",
        "colab": {}
      },
      "source": [
        "#https://www.geeksforgeeks.org/min-cost-path-dp-6/\n",
        "import numpy as np\n",
        "class Solution(object):\n",
        "    def minPathSum(self, grid):\n",
        "        m=len(grid)\n",
        "        n=len(grid[0])\n",
        "        score = np.zeros((m, n))\n",
        "        score[0][0]=grid[0][0]  \n",
        "        for i in range(1,m):\n",
        "            score[i][0]=score[i-1][0]+grid[i][0]\n",
        "        for j in range(1,n):\n",
        "            score[0][j]=score[0][j-1]+grid[0][j]\n",
        "        for i in range(1,m):\n",
        "            for j in range(1,n):\n",
        "                score[i][j]=min(score[i-1][j],score[i][j-1])+grid[i][j]\n",
        "        return int(score[-1][-1])\n",
        "# Runtime: 132 ms, faster than 5.33% of Python online submissions for Minimum Path Sum.\n",
        "# Memory Usage: 22 MB, less than 5.88% of Python online submissions for Minimum Path Sum.\n",
        "# Time complexity: O(mn) \n",
        "# Space complexity: O(mn) as we create a new score matrix"
      ],
      "execution_count": 0,
      "outputs": []
    },
    {
      "cell_type": "code",
      "metadata": {
        "id": "nFgJEJynMCJv",
        "colab_type": "code",
        "colab": {}
      },
      "source": [
        ""
      ],
      "execution_count": 0,
      "outputs": []
    }
  ]
}